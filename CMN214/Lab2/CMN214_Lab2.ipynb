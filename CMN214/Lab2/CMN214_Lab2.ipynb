{
 "cells": [
  {
   "cell_type": "markdown",
   "metadata": {},
   "source": "## CMN214 Lab 2"
  },
  {
   "cell_type": "markdown",
   "metadata": {},
   "source": "- **Name**: Chen Luo\n\n\n- **Date**: Jan. 29, 2020"
  },
  {
   "cell_type": "markdown",
   "metadata": {},
   "source": "### 1. Read `Lab2data.csv` into a data frame in R"
  },
  {
   "cell_type": "code",
   "execution_count": 1,
   "metadata": {},
   "outputs": [
    {
     "data": {
      "text/html": "'data.frame'",
      "text/latex": "'data.frame'",
      "text/markdown": "'data.frame'",
      "text/plain": "[1] \"data.frame\""
     },
     "metadata": {},
     "output_type": "display_data"
    }
   ],
   "source": "# the csv file and R script are under the same directory, so I import data with a relative path\n# strings in this csv file are not categorical variables, so I set the parameter \"stringsAsFactors\" as FALSE\nroster <- read.table(file=\"./Lab2data.csv\", \n                     header=TRUE, \n                     stringsAsFactors=FALSE, \n                     nrows=50, \n                     encoding=\"utf-8\", \n                     sep=\",\")\n# check data type\nclass(roster)"
  },
  {
   "cell_type": "code",
   "execution_count": 2,
   "metadata": {},
   "outputs": [
    {
     "data": {
      "text/html": "<table>\n<thead><tr><th scope=col>SignupDate</th><th scope=col>Name</th><th scope=col>Age</th><th scope=col>Income</th><th scope=col>EduYears</th><th scope=col>PrefMedia</th></tr></thead>\n<tbody>\n\t<tr><td>1/16/2008</td><td>Laurence </td><td>47       </td><td>3        </td><td>11       </td><td>Newspaper</td></tr>\n\t<tr><td>1/16/2008</td><td>Chong    </td><td>68       </td><td>1        </td><td>13       </td><td>NetworkTV</td></tr>\n\t<tr><td>2/11/2008</td><td>Joesph   </td><td>60       </td><td>5        </td><td>19       </td><td>Online   </td></tr>\n\t<tr><td>2/12/2008</td><td>Ethelyn  </td><td>59       </td><td>7        </td><td> 7       </td><td>Radio    </td></tr>\n\t<tr><td>2/20/2008</td><td>Lashanda </td><td>68       </td><td>4        </td><td>19       </td><td>CableTV  </td></tr>\n\t<tr><td>2/21/2008</td><td>Mai      </td><td>46       </td><td>7        </td><td>10       </td><td>CableTV  </td></tr>\n</tbody>\n</table>\n",
      "text/latex": "\\begin{tabular}{r|llllll}\n SignupDate & Name & Age & Income & EduYears & PrefMedia\\\\\n\\hline\n\t 1/16/2008 & Laurence  & 47        & 3         & 11        & Newspaper\\\\\n\t 1/16/2008 & Chong     & 68        & 1         & 13        & NetworkTV\\\\\n\t 2/11/2008 & Joesph    & 60        & 5         & 19        & Online   \\\\\n\t 2/12/2008 & Ethelyn   & 59        & 7         &  7        & Radio    \\\\\n\t 2/20/2008 & Lashanda  & 68        & 4         & 19        & CableTV  \\\\\n\t 2/21/2008 & Mai       & 46        & 7         & 10        & CableTV  \\\\\n\\end{tabular}\n",
      "text/markdown": "\nSignupDate | Name | Age | Income | EduYears | PrefMedia | \n|---|---|---|---|---|---|\n| 1/16/2008 | Laurence  | 47        | 3         | 11        | Newspaper | \n| 1/16/2008 | Chong     | 68        | 1         | 13        | NetworkTV | \n| 2/11/2008 | Joesph    | 60        | 5         | 19        | Online    | \n| 2/12/2008 | Ethelyn   | 59        | 7         |  7        | Radio     | \n| 2/20/2008 | Lashanda  | 68        | 4         | 19        | CableTV   | \n| 2/21/2008 | Mai       | 46        | 7         | 10        | CableTV   | \n\n\n",
      "text/plain": "  SignupDate Name     Age Income EduYears PrefMedia\n1 1/16/2008  Laurence 47  3      11       Newspaper\n2 1/16/2008  Chong    68  1      13       NetworkTV\n3 2/11/2008  Joesph   60  5      19       Online   \n4 2/12/2008  Ethelyn  59  7       7       Radio    \n5 2/20/2008  Lashanda 68  4      19       CableTV  \n6 2/21/2008  Mai      46  7      10       CableTV  "
     },
     "metadata": {},
     "output_type": "display_data"
    }
   ],
   "source": "# take a peek\nhead(roster)"
  },
  {
   "cell_type": "code",
   "execution_count": 3,
   "metadata": {},
   "outputs": [
    {
     "data": {
      "text/html": "<ol class=list-inline>\n\t<li>50</li>\n\t<li>6</li>\n</ol>\n",
      "text/latex": "\\begin{enumerate*}\n\\item 50\n\\item 6\n\\end{enumerate*}\n",
      "text/markdown": "1. 50\n2. 6\n\n\n",
      "text/plain": "[1] 50  6"
     },
     "metadata": {},
     "output_type": "display_data"
    }
   ],
   "source": "# rows and columns of this data frame\ndim(roster)"
  },
  {
   "cell_type": "code",
   "execution_count": 4,
   "metadata": {},
   "outputs": [
    {
     "name": "stdout",
     "output_type": "stream",
     "text": "'data.frame':\t50 obs. of  6 variables:\n $ SignupDate: chr  \"1/16/2008\" \"1/16/2008\" \"2/11/2008\" \"2/12/2008\" ...\n $ Name      : chr  \"Laurence\" \"Chong\" \"Joesph\" \"Ethelyn\" ...\n $ Age       : int  47 68 60 59 68 46 70 24 49 27 ...\n $ Income    : int  3 1 5 7 4 7 5 6 3 7 ...\n $ EduYears  : int  11 13 19 7 19 10 19 15 11 11 ...\n $ PrefMedia : chr  \"Newspaper\" \"NetworkTV\" \"Online\" \"Radio\" ...\n"
    }
   ],
   "source": "# check data type of each column\nstr(roster)"
  },
  {
   "cell_type": "markdown",
   "metadata": {},
   "source": "### 2. Compute the mean and std of the `Age` and `Income` columns"
  },
  {
   "cell_type": "code",
   "execution_count": 6,
   "metadata": {},
   "outputs": [
    {
     "name": "stdout",
     "output_type": "stream",
     "text": "[1] \"Mean of age is 48.76\"\n[1] \"Standard deviation of age is 17.02\"\n"
    }
   ],
   "source": "print(paste(\"Mean of age is\", mean(roster$Age)))\n# adopt round to keep two decimal places\nprint(paste(\"Standard deviation of age is\", format(round(sd(roster$Age), digits=2), nsmall=2)))"
  },
  {
   "cell_type": "code",
   "execution_count": 7,
   "metadata": {},
   "outputs": [
    {
     "name": "stdout",
     "output_type": "stream",
     "text": "[1] \"Mean of income is 3.84\"\n[1] \"Standard deviation of income is 1.99\"\n"
    }
   ],
   "source": "print(paste(\"Mean of income is\", mean(roster$Income)))\nprint(paste(\"Standard deviation of income is\", format(round(sd(roster$Income), digits=2), nsmall=2)))"
  },
  {
   "cell_type": "markdown",
   "metadata": {},
   "source": "### 3. Compute the corr between `Age` and `EduYears`"
  },
  {
   "cell_type": "code",
   "execution_count": 8,
   "metadata": {},
   "outputs": [
    {
     "data": {
      "text/html": "'0.12'",
      "text/latex": "'0.12'",
      "text/markdown": "'0.12'",
      "text/plain": "[1] \"0.12\""
     },
     "metadata": {},
     "output_type": "display_data"
    }
   ],
   "source": "# adopt Pearson Correlation for these two columns containing numerical values\nformat(round(cor(x=roster[, \"Age\"], y=roster[, \"EduYears\"], method=\"pearson\"), digits=2), nsmall=2)"
  },
  {
   "cell_type": "markdown",
   "metadata": {},
   "source": "### 4. Find the names of all people who have an income level of 7 & computer their average age"
  },
  {
   "cell_type": "code",
   "execution_count": 9,
   "metadata": {},
   "outputs": [
    {
     "data": {
      "text/html": "<ol class=list-inline>\n\t<li>'Ethelyn'</li>\n\t<li>'Mai'</li>\n\t<li>'Karl'</li>\n\t<li>'Ginette'</li>\n\t<li>'Valentina'</li>\n\t<li>'Ross'</li>\n\t<li>'Tiffiny'</li>\n</ol>\n",
      "text/latex": "\\begin{enumerate*}\n\\item 'Ethelyn'\n\\item 'Mai'\n\\item 'Karl'\n\\item 'Ginette'\n\\item 'Valentina'\n\\item 'Ross'\n\\item 'Tiffiny'\n\\end{enumerate*}\n",
      "text/markdown": "1. 'Ethelyn'\n2. 'Mai'\n3. 'Karl'\n4. 'Ginette'\n5. 'Valentina'\n6. 'Ross'\n7. 'Tiffiny'\n\n\n",
      "text/plain": "[1] \"Ethelyn\"   \"Mai\"       \"Karl\"      \"Ginette\"   \"Valentina\" \"Ross\"     \n[7] \"Tiffiny\"  "
     },
     "metadata": {},
     "output_type": "display_data"
    }
   ],
   "source": "# Names of all people have an income level of 7\n# the parameter 2 is short for the index of Name column\nroster[roster$Income==7, 2]"
  },
  {
   "cell_type": "code",
   "execution_count": 10,
   "metadata": {},
   "outputs": [
    {
     "data": {
      "text/html": "37",
      "text/latex": "37",
      "text/markdown": "37",
      "text/plain": "[1] 37"
     },
     "metadata": {},
     "output_type": "display_data"
    }
   ],
   "source": "# their average age\nmean(roster[roster$Income==7, 3])"
  },
  {
   "cell_type": "markdown",
   "metadata": {},
   "source": "### 5. Add a new numeric column to the data frame containing only the number 1 for all cases"
  },
  {
   "cell_type": "code",
   "execution_count": 11,
   "metadata": {},
   "outputs": [
    {
     "data": {
      "text/html": "<table>\n<thead><tr><th scope=col>SignupDate</th><th scope=col>Name</th><th scope=col>Age</th><th scope=col>Income</th><th scope=col>EduYears</th><th scope=col>PrefMedia</th><th scope=col>Added</th></tr></thead>\n<tbody>\n\t<tr><td>1/16/2008</td><td>Laurence </td><td>47       </td><td>3        </td><td>11       </td><td>Newspaper</td><td>1        </td></tr>\n\t<tr><td>1/16/2008</td><td>Chong    </td><td>68       </td><td>1        </td><td>13       </td><td>NetworkTV</td><td>1        </td></tr>\n\t<tr><td>2/11/2008</td><td>Joesph   </td><td>60       </td><td>5        </td><td>19       </td><td>Online   </td><td>1        </td></tr>\n\t<tr><td>2/12/2008</td><td>Ethelyn  </td><td>59       </td><td>7        </td><td> 7       </td><td>Radio    </td><td>1        </td></tr>\n\t<tr><td>2/20/2008</td><td>Lashanda </td><td>68       </td><td>4        </td><td>19       </td><td>CableTV  </td><td>1        </td></tr>\n\t<tr><td>2/21/2008</td><td>Mai      </td><td>46       </td><td>7        </td><td>10       </td><td>CableTV  </td><td>1        </td></tr>\n</tbody>\n</table>\n",
      "text/latex": "\\begin{tabular}{r|lllllll}\n SignupDate & Name & Age & Income & EduYears & PrefMedia & Added\\\\\n\\hline\n\t 1/16/2008 & Laurence  & 47        & 3         & 11        & Newspaper & 1        \\\\\n\t 1/16/2008 & Chong     & 68        & 1         & 13        & NetworkTV & 1        \\\\\n\t 2/11/2008 & Joesph    & 60        & 5         & 19        & Online    & 1        \\\\\n\t 2/12/2008 & Ethelyn   & 59        & 7         &  7        & Radio     & 1        \\\\\n\t 2/20/2008 & Lashanda  & 68        & 4         & 19        & CableTV   & 1        \\\\\n\t 2/21/2008 & Mai       & 46        & 7         & 10        & CableTV   & 1        \\\\\n\\end{tabular}\n",
      "text/markdown": "\nSignupDate | Name | Age | Income | EduYears | PrefMedia | Added | \n|---|---|---|---|---|---|\n| 1/16/2008 | Laurence  | 47        | 3         | 11        | Newspaper | 1         | \n| 1/16/2008 | Chong     | 68        | 1         | 13        | NetworkTV | 1         | \n| 2/11/2008 | Joesph    | 60        | 5         | 19        | Online    | 1         | \n| 2/12/2008 | Ethelyn   | 59        | 7         |  7        | Radio     | 1         | \n| 2/20/2008 | Lashanda  | 68        | 4         | 19        | CableTV   | 1         | \n| 2/21/2008 | Mai       | 46        | 7         | 10        | CableTV   | 1         | \n\n\n",
      "text/plain": "  SignupDate Name     Age Income EduYears PrefMedia Added\n1 1/16/2008  Laurence 47  3      11       Newspaper 1    \n2 1/16/2008  Chong    68  1      13       NetworkTV 1    \n3 2/11/2008  Joesph   60  5      19       Online    1    \n4 2/12/2008  Ethelyn  59  7       7       Radio     1    \n5 2/20/2008  Lashanda 68  4      19       CableTV   1    \n6 2/21/2008  Mai      46  7      10       CableTV   1    "
     },
     "metadata": {},
     "output_type": "display_data"
    }
   ],
   "source": "# the new numeric column is named \"Added\"\nroster[\"Added\"] <- rep(1, 50)\n# take a peek at the new data frame\nhead(roster)"
  },
  {
   "cell_type": "markdown",
   "metadata": {},
   "source": "### 6. Add a new column to the data frame containing case IDs"
  },
  {
   "cell_type": "code",
   "execution_count": 12,
   "metadata": {},
   "outputs": [
    {
     "data": {
      "text/html": "<table>\n<thead><tr><th scope=col>SignupDate</th><th scope=col>Name</th><th scope=col>Age</th><th scope=col>Income</th><th scope=col>EduYears</th><th scope=col>PrefMedia</th><th scope=col>Added</th><th scope=col>ID</th></tr></thead>\n<tbody>\n\t<tr><td>1/16/2008</td><td>Laurence </td><td>47       </td><td>3        </td><td>11       </td><td>Newspaper</td><td>1        </td><td>1        </td></tr>\n\t<tr><td>1/16/2008</td><td>Chong    </td><td>68       </td><td>1        </td><td>13       </td><td>NetworkTV</td><td>1        </td><td>2        </td></tr>\n\t<tr><td>2/11/2008</td><td>Joesph   </td><td>60       </td><td>5        </td><td>19       </td><td>Online   </td><td>1        </td><td>3        </td></tr>\n\t<tr><td>2/12/2008</td><td>Ethelyn  </td><td>59       </td><td>7        </td><td> 7       </td><td>Radio    </td><td>1        </td><td>4        </td></tr>\n\t<tr><td>2/20/2008</td><td>Lashanda </td><td>68       </td><td>4        </td><td>19       </td><td>CableTV  </td><td>1        </td><td>5        </td></tr>\n\t<tr><td>2/21/2008</td><td>Mai      </td><td>46       </td><td>7        </td><td>10       </td><td>CableTV  </td><td>1        </td><td>6        </td></tr>\n</tbody>\n</table>\n",
      "text/latex": "\\begin{tabular}{r|llllllll}\n SignupDate & Name & Age & Income & EduYears & PrefMedia & Added & ID\\\\\n\\hline\n\t 1/16/2008 & Laurence  & 47        & 3         & 11        & Newspaper & 1         & 1        \\\\\n\t 1/16/2008 & Chong     & 68        & 1         & 13        & NetworkTV & 1         & 2        \\\\\n\t 2/11/2008 & Joesph    & 60        & 5         & 19        & Online    & 1         & 3        \\\\\n\t 2/12/2008 & Ethelyn   & 59        & 7         &  7        & Radio     & 1         & 4        \\\\\n\t 2/20/2008 & Lashanda  & 68        & 4         & 19        & CableTV   & 1         & 5        \\\\\n\t 2/21/2008 & Mai       & 46        & 7         & 10        & CableTV   & 1         & 6        \\\\\n\\end{tabular}\n",
      "text/markdown": "\nSignupDate | Name | Age | Income | EduYears | PrefMedia | Added | ID | \n|---|---|---|---|---|---|\n| 1/16/2008 | Laurence  | 47        | 3         | 11        | Newspaper | 1         | 1         | \n| 1/16/2008 | Chong     | 68        | 1         | 13        | NetworkTV | 1         | 2         | \n| 2/11/2008 | Joesph    | 60        | 5         | 19        | Online    | 1         | 3         | \n| 2/12/2008 | Ethelyn   | 59        | 7         |  7        | Radio     | 1         | 4         | \n| 2/20/2008 | Lashanda  | 68        | 4         | 19        | CableTV   | 1         | 5         | \n| 2/21/2008 | Mai       | 46        | 7         | 10        | CableTV   | 1         | 6         | \n\n\n",
      "text/plain": "  SignupDate Name     Age Income EduYears PrefMedia Added ID\n1 1/16/2008  Laurence 47  3      11       Newspaper 1     1 \n2 1/16/2008  Chong    68  1      13       NetworkTV 1     2 \n3 2/11/2008  Joesph   60  5      19       Online    1     3 \n4 2/12/2008  Ethelyn  59  7       7       Radio     1     4 \n5 2/20/2008  Lashanda 68  4      19       CableTV   1     5 \n6 2/21/2008  Mai      46  7      10       CableTV   1     6 "
     },
     "metadata": {},
     "output_type": "display_data"
    }
   ],
   "source": "# the new column is named \"ID\"\nroster[\"ID\"] <- 1:50\n# take a peek at the new data frame\nhead(roster)"
  },
  {
   "cell_type": "markdown",
   "metadata": {},
   "source": "### 7. Add a new column containing logical values based on `Age`"
  },
  {
   "cell_type": "code",
   "execution_count": 13,
   "metadata": {},
   "outputs": [
    {
     "data": {
      "text/html": "<table>\n<thead><tr><th scope=col>SignupDate</th><th scope=col>Name</th><th scope=col>Age</th><th scope=col>Income</th><th scope=col>EduYears</th><th scope=col>PrefMedia</th><th scope=col>Added</th><th scope=col>ID</th><th scope=col>AgeLimit</th></tr></thead>\n<tbody>\n\t<tr><td>1/16/2008</td><td>Laurence </td><td>47       </td><td>3        </td><td>11       </td><td>Newspaper</td><td>1        </td><td>1        </td><td>FALSE    </td></tr>\n\t<tr><td>1/16/2008</td><td>Chong    </td><td>68       </td><td>1        </td><td>13       </td><td>NetworkTV</td><td>1        </td><td>2        </td><td>FALSE    </td></tr>\n\t<tr><td>2/11/2008</td><td>Joesph   </td><td>60       </td><td>5        </td><td>19       </td><td>Online   </td><td>1        </td><td>3        </td><td>FALSE    </td></tr>\n\t<tr><td>2/12/2008</td><td>Ethelyn  </td><td>59       </td><td>7        </td><td> 7       </td><td>Radio    </td><td>1        </td><td>4        </td><td>FALSE    </td></tr>\n\t<tr><td>2/20/2008</td><td>Lashanda </td><td>68       </td><td>4        </td><td>19       </td><td>CableTV  </td><td>1        </td><td>5        </td><td>FALSE    </td></tr>\n\t<tr><td>2/21/2008</td><td>Mai      </td><td>46       </td><td>7        </td><td>10       </td><td>CableTV  </td><td>1        </td><td>6        </td><td>FALSE    </td></tr>\n</tbody>\n</table>\n",
      "text/latex": "\\begin{tabular}{r|lllllllll}\n SignupDate & Name & Age & Income & EduYears & PrefMedia & Added & ID & AgeLimit\\\\\n\\hline\n\t 1/16/2008 & Laurence  & 47        & 3         & 11        & Newspaper & 1         & 1         & FALSE    \\\\\n\t 1/16/2008 & Chong     & 68        & 1         & 13        & NetworkTV & 1         & 2         & FALSE    \\\\\n\t 2/11/2008 & Joesph    & 60        & 5         & 19        & Online    & 1         & 3         & FALSE    \\\\\n\t 2/12/2008 & Ethelyn   & 59        & 7         &  7        & Radio     & 1         & 4         & FALSE    \\\\\n\t 2/20/2008 & Lashanda  & 68        & 4         & 19        & CableTV   & 1         & 5         & FALSE    \\\\\n\t 2/21/2008 & Mai       & 46        & 7         & 10        & CableTV   & 1         & 6         & FALSE    \\\\\n\\end{tabular}\n",
      "text/markdown": "\nSignupDate | Name | Age | Income | EduYears | PrefMedia | Added | ID | AgeLimit | \n|---|---|---|---|---|---|\n| 1/16/2008 | Laurence  | 47        | 3         | 11        | Newspaper | 1         | 1         | FALSE     | \n| 1/16/2008 | Chong     | 68        | 1         | 13        | NetworkTV | 1         | 2         | FALSE     | \n| 2/11/2008 | Joesph    | 60        | 5         | 19        | Online    | 1         | 3         | FALSE     | \n| 2/12/2008 | Ethelyn   | 59        | 7         |  7        | Radio     | 1         | 4         | FALSE     | \n| 2/20/2008 | Lashanda  | 68        | 4         | 19        | CableTV   | 1         | 5         | FALSE     | \n| 2/21/2008 | Mai       | 46        | 7         | 10        | CableTV   | 1         | 6         | FALSE     | \n\n\n",
      "text/plain": "  SignupDate Name     Age Income EduYears PrefMedia Added ID AgeLimit\n1 1/16/2008  Laurence 47  3      11       Newspaper 1     1  FALSE   \n2 1/16/2008  Chong    68  1      13       NetworkTV 1     2  FALSE   \n3 2/11/2008  Joesph   60  5      19       Online    1     3  FALSE   \n4 2/12/2008  Ethelyn  59  7       7       Radio     1     4  FALSE   \n5 2/20/2008  Lashanda 68  4      19       CableTV   1     5  FALSE   \n6 2/21/2008  Mai      46  7      10       CableTV   1     6  FALSE   "
     },
     "metadata": {},
     "output_type": "display_data"
    }
   ],
   "source": "# the new column is named \"AgeLimit\"\nroster[\"AgeLimit\"] <- roster$Age < 40\n# take a peek at the new data frame\nhead(roster)"
  },
  {
   "cell_type": "markdown",
   "metadata": {},
   "source": "### 8. Add a new column containing logical values based on the `SignupDate`"
  },
  {
   "cell_type": "code",
   "execution_count": 14,
   "metadata": {},
   "outputs": [
    {
     "data": {
      "text/html": "<table>\n<thead><tr><th scope=col>SignupDate</th><th scope=col>Name</th><th scope=col>Age</th><th scope=col>Income</th><th scope=col>EduYears</th><th scope=col>PrefMedia</th><th scope=col>Added</th><th scope=col>ID</th><th scope=col>AgeLimit</th><th scope=col>DateLimit</th></tr></thead>\n<tbody>\n\t<tr><td>2008-01-16</td><td>Laurence  </td><td>47        </td><td>3         </td><td>11        </td><td>Newspaper </td><td>1         </td><td>1         </td><td>FALSE     </td><td>TRUE      </td></tr>\n\t<tr><td>2008-01-16</td><td>Chong     </td><td>68        </td><td>1         </td><td>13        </td><td>NetworkTV </td><td>1         </td><td>2         </td><td>FALSE     </td><td>TRUE      </td></tr>\n\t<tr><td>2008-02-11</td><td>Joesph    </td><td>60        </td><td>5         </td><td>19        </td><td>Online    </td><td>1         </td><td>3         </td><td>FALSE     </td><td>TRUE      </td></tr>\n\t<tr><td>2008-02-12</td><td>Ethelyn   </td><td>59        </td><td>7         </td><td> 7        </td><td>Radio     </td><td>1         </td><td>4         </td><td>FALSE     </td><td>TRUE      </td></tr>\n\t<tr><td>2008-02-20</td><td>Lashanda  </td><td>68        </td><td>4         </td><td>19        </td><td>CableTV   </td><td>1         </td><td>5         </td><td>FALSE     </td><td>TRUE      </td></tr>\n\t<tr><td>2008-02-21</td><td>Mai       </td><td>46        </td><td>7         </td><td>10        </td><td>CableTV   </td><td>1         </td><td>6         </td><td>FALSE     </td><td>TRUE      </td></tr>\n</tbody>\n</table>\n",
      "text/latex": "\\begin{tabular}{r|llllllllll}\n SignupDate & Name & Age & Income & EduYears & PrefMedia & Added & ID & AgeLimit & DateLimit\\\\\n\\hline\n\t 2008-01-16 & Laurence   & 47         & 3          & 11         & Newspaper  & 1          & 1          & FALSE      & TRUE      \\\\\n\t 2008-01-16 & Chong      & 68         & 1          & 13         & NetworkTV  & 1          & 2          & FALSE      & TRUE      \\\\\n\t 2008-02-11 & Joesph     & 60         & 5          & 19         & Online     & 1          & 3          & FALSE      & TRUE      \\\\\n\t 2008-02-12 & Ethelyn    & 59         & 7          &  7         & Radio      & 1          & 4          & FALSE      & TRUE      \\\\\n\t 2008-02-20 & Lashanda   & 68         & 4          & 19         & CableTV    & 1          & 5          & FALSE      & TRUE      \\\\\n\t 2008-02-21 & Mai        & 46         & 7          & 10         & CableTV    & 1          & 6          & FALSE      & TRUE      \\\\\n\\end{tabular}\n",
      "text/markdown": "\nSignupDate | Name | Age | Income | EduYears | PrefMedia | Added | ID | AgeLimit | DateLimit | \n|---|---|---|---|---|---|\n| 2008-01-16 | Laurence   | 47         | 3          | 11         | Newspaper  | 1          | 1          | FALSE      | TRUE       | \n| 2008-01-16 | Chong      | 68         | 1          | 13         | NetworkTV  | 1          | 2          | FALSE      | TRUE       | \n| 2008-02-11 | Joesph     | 60         | 5          | 19         | Online     | 1          | 3          | FALSE      | TRUE       | \n| 2008-02-12 | Ethelyn    | 59         | 7          |  7         | Radio      | 1          | 4          | FALSE      | TRUE       | \n| 2008-02-20 | Lashanda   | 68         | 4          | 19         | CableTV    | 1          | 5          | FALSE      | TRUE       | \n| 2008-02-21 | Mai        | 46         | 7          | 10         | CableTV    | 1          | 6          | FALSE      | TRUE       | \n\n\n",
      "text/plain": "  SignupDate Name     Age Income EduYears PrefMedia Added ID AgeLimit DateLimit\n1 2008-01-16 Laurence 47  3      11       Newspaper 1     1  FALSE    TRUE     \n2 2008-01-16 Chong    68  1      13       NetworkTV 1     2  FALSE    TRUE     \n3 2008-02-11 Joesph   60  5      19       Online    1     3  FALSE    TRUE     \n4 2008-02-12 Ethelyn  59  7       7       Radio     1     4  FALSE    TRUE     \n5 2008-02-20 Lashanda 68  4      19       CableTV   1     5  FALSE    TRUE     \n6 2008-02-21 Mai      46  7      10       CableTV   1     6  FALSE    TRUE     "
     },
     "metadata": {},
     "output_type": "display_data"
    }
   ],
   "source": "# use as.Date for the conversion\n# in the format parameter, %m denotes month, %d denotes day, %Y denotes year (in four digits form)\nroster[\"SignupDate\"] <- as.Date(roster$SignupDate, format=\"%m/%d/%Y\")\n# perform the logical judgment (before May 1st 2008 as TRUE, otherwise FALSE)\n# the new column is named \"DateLimit\"\nroster[\"DateLimit\"] <- roster$SignupDate < \"2008-05-01\"\n# take a peek\nhead(roster)"
  },
  {
   "cell_type": "code",
   "execution_count": 15,
   "metadata": {},
   "outputs": [
    {
     "data": {
      "text/html": "<table>\n<thead><tr><th scope=col>SignupDate</th><th scope=col>Name</th><th scope=col>Age</th><th scope=col>Income</th><th scope=col>EduYears</th><th scope=col>PrefMedia</th><th scope=col>Added</th><th scope=col>ID</th><th scope=col>AgeLimit</th><th scope=col>DateLimit</th></tr></thead>\n<tbody>\n\t<tr><td>2008-01-16</td><td>Laurence  </td><td>47        </td><td>3         </td><td>11        </td><td>Newspaper </td><td>1         </td><td> 1        </td><td>FALSE     </td><td> TRUE     </td></tr>\n\t<tr><td>2008-01-16</td><td>Chong     </td><td>68        </td><td>1         </td><td>13        </td><td>NetworkTV </td><td>1         </td><td> 2        </td><td>FALSE     </td><td> TRUE     </td></tr>\n\t<tr><td>2008-02-11</td><td>Joesph    </td><td>60        </td><td>5         </td><td>19        </td><td>Online    </td><td>1         </td><td> 3        </td><td>FALSE     </td><td> TRUE     </td></tr>\n\t<tr><td>2008-02-12</td><td>Ethelyn   </td><td>59        </td><td>7         </td><td> 7        </td><td>Radio     </td><td>1         </td><td> 4        </td><td>FALSE     </td><td> TRUE     </td></tr>\n\t<tr><td>2008-02-20</td><td>Lashanda  </td><td>68        </td><td>4         </td><td>19        </td><td>CableTV   </td><td>1         </td><td> 5        </td><td>FALSE     </td><td> TRUE     </td></tr>\n\t<tr><td>2008-02-21</td><td>Mai       </td><td>46        </td><td>7         </td><td>10        </td><td>CableTV   </td><td>1         </td><td> 6        </td><td>FALSE     </td><td> TRUE     </td></tr>\n\t<tr><td>2008-02-22</td><td>Corazon   </td><td>70        </td><td>5         </td><td>19        </td><td>CableTV   </td><td>1         </td><td> 7        </td><td>FALSE     </td><td> TRUE     </td></tr>\n\t<tr><td>2008-02-26</td><td>Twana     </td><td>24        </td><td>6         </td><td>15        </td><td>Newspaper </td><td>1         </td><td> 8        </td><td> TRUE     </td><td> TRUE     </td></tr>\n\t<tr><td>2008-02-28</td><td>Rufus     </td><td>49        </td><td>3         </td><td>11        </td><td>Online    </td><td>1         </td><td> 9        </td><td>FALSE     </td><td> TRUE     </td></tr>\n\t<tr><td>2008-03-10</td><td>Karl      </td><td>27        </td><td>7         </td><td>11        </td><td>Newspaper </td><td>1         </td><td>10        </td><td> TRUE     </td><td> TRUE     </td></tr>\n\t<tr><td>2008-03-18</td><td>Vivienne  </td><td>20        </td><td>1         </td><td> 9        </td><td>Newspaper </td><td>1         </td><td>11        </td><td> TRUE     </td><td> TRUE     </td></tr>\n\t<tr><td>2008-03-26</td><td>Lora      </td><td>48        </td><td>3         </td><td>17        </td><td>Online    </td><td>1         </td><td>12        </td><td>FALSE     </td><td> TRUE     </td></tr>\n\t<tr><td>2008-03-28</td><td>Esmeralda </td><td>26        </td><td>1         </td><td>13        </td><td>NetworkTV </td><td>1         </td><td>13        </td><td> TRUE     </td><td> TRUE     </td></tr>\n\t<tr><td>2008-04-16</td><td>Earlie    </td><td>66        </td><td>4         </td><td>17        </td><td>Online    </td><td>1         </td><td>14        </td><td>FALSE     </td><td> TRUE     </td></tr>\n\t<tr><td>2008-04-21</td><td>Chang     </td><td>72        </td><td>4         </td><td> 7        </td><td>CableTV   </td><td>1         </td><td>15        </td><td>FALSE     </td><td> TRUE     </td></tr>\n\t<tr><td>2008-04-23</td><td>Kaycee    </td><td>72        </td><td>4         </td><td> 9        </td><td>Radio     </td><td>1         </td><td>16        </td><td>FALSE     </td><td> TRUE     </td></tr>\n\t<tr><td>2008-04-25</td><td>Ginette   </td><td>34        </td><td>7         </td><td>13        </td><td>NetworkTV </td><td>1         </td><td>17        </td><td> TRUE     </td><td> TRUE     </td></tr>\n\t<tr><td>2008-05-09</td><td>Del       </td><td>69        </td><td>5         </td><td>12        </td><td>Online    </td><td>1         </td><td>18        </td><td>FALSE     </td><td>FALSE     </td></tr>\n\t<tr><td>2008-05-12</td><td>Gussie    </td><td>38        </td><td>2         </td><td>11        </td><td>CableTV   </td><td>1         </td><td>19        </td><td> TRUE     </td><td>FALSE     </td></tr>\n\t<tr><td>2008-05-14</td><td>Faustino  </td><td>51        </td><td>3         </td><td>10        </td><td>Newspaper </td><td>1         </td><td>20        </td><td>FALSE     </td><td>FALSE     </td></tr>\n\t<tr><td>2008-05-26</td><td>Kisha     </td><td>61        </td><td>1         </td><td>18        </td><td>Online    </td><td>1         </td><td>21        </td><td>FALSE     </td><td>FALSE     </td></tr>\n\t<tr><td>2008-05-30</td><td>Shakita   </td><td>38        </td><td>5         </td><td> 7        </td><td>CableTV   </td><td>1         </td><td>22        </td><td> TRUE     </td><td>FALSE     </td></tr>\n\t<tr><td>2008-06-05</td><td>Angel     </td><td>43        </td><td>6         </td><td> 7        </td><td>Newspaper </td><td>1         </td><td>23        </td><td>FALSE     </td><td>FALSE     </td></tr>\n\t<tr><td>2008-06-10</td><td>Zenia     </td><td>34        </td><td>5         </td><td>14        </td><td>Radio     </td><td>1         </td><td>24        </td><td> TRUE     </td><td>FALSE     </td></tr>\n\t<tr><td>2008-06-18</td><td>Alvin     </td><td>32        </td><td>2         </td><td>14        </td><td>Online    </td><td>1         </td><td>25        </td><td> TRUE     </td><td>FALSE     </td></tr>\n\t<tr><td>2008-07-02</td><td>Zora      </td><td>51        </td><td>3         </td><td>19        </td><td>Newspaper </td><td>1         </td><td>26        </td><td>FALSE     </td><td>FALSE     </td></tr>\n\t<tr><td>2008-07-03</td><td>Wen       </td><td>70        </td><td>5         </td><td>12        </td><td>Online    </td><td>1         </td><td>27        </td><td>FALSE     </td><td>FALSE     </td></tr>\n\t<tr><td>2008-07-09</td><td>Josh      </td><td>37        </td><td>5         </td><td> 7        </td><td>Newspaper </td><td>1         </td><td>28        </td><td> TRUE     </td><td>FALSE     </td></tr>\n\t<tr><td>2008-07-14</td><td>Gus       </td><td>74        </td><td>1         </td><td>16        </td><td>Online    </td><td>1         </td><td>29        </td><td>FALSE     </td><td>FALSE     </td></tr>\n\t<tr><td>2008-07-17</td><td>Felton    </td><td>49        </td><td>3         </td><td> 8        </td><td>Radio     </td><td>1         </td><td>30        </td><td>FALSE     </td><td>FALSE     </td></tr>\n\t<tr><td>2008-07-24</td><td>Particia  </td><td>77        </td><td>3         </td><td> 8        </td><td>NetworkTV </td><td>1         </td><td>31        </td><td>FALSE     </td><td>FALSE     </td></tr>\n\t<tr><td>2008-07-31</td><td>Caroline  </td><td>69        </td><td>3         </td><td> 7        </td><td>Radio     </td><td>1         </td><td>32        </td><td>FALSE     </td><td>FALSE     </td></tr>\n\t<tr><td>2008-08-07</td><td>Steve     </td><td>75        </td><td>2         </td><td> 8        </td><td>NetworkTV </td><td>1         </td><td>33        </td><td>FALSE     </td><td>FALSE     </td></tr>\n\t<tr><td>2008-08-12</td><td>Pat       </td><td>26        </td><td>3         </td><td>11        </td><td>Newspaper </td><td>1         </td><td>34        </td><td> TRUE     </td><td>FALSE     </td></tr>\n\t<tr><td>2008-08-21</td><td>Humberto  </td><td>35        </td><td>2         </td><td> 8        </td><td>Newspaper </td><td>1         </td><td>35        </td><td> TRUE     </td><td>FALSE     </td></tr>\n\t<tr><td>2008-08-22</td><td>Shauna    </td><td>40        </td><td>3         </td><td>17        </td><td>Online    </td><td>1         </td><td>36        </td><td>FALSE     </td><td>FALSE     </td></tr>\n\t<tr><td>2008-09-04</td><td>Valentina </td><td>34        </td><td>7         </td><td>11        </td><td>CableTV   </td><td>1         </td><td>37        </td><td> TRUE     </td><td>FALSE     </td></tr>\n\t<tr><td>2008-09-24</td><td>Genaro    </td><td>39        </td><td>3         </td><td>14        </td><td>Newspaper </td><td>1         </td><td>38        </td><td> TRUE     </td><td>FALSE     </td></tr>\n\t<tr><td>2008-09-26</td><td>Mila      </td><td>37        </td><td>6         </td><td> 9        </td><td>Online    </td><td>1         </td><td>39        </td><td> TRUE     </td><td>FALSE     </td></tr>\n\t<tr><td>2008-10-22</td><td>Annelle   </td><td>74        </td><td>6         </td><td> 9        </td><td>Newspaper </td><td>1         </td><td>40        </td><td>FALSE     </td><td>FALSE     </td></tr>\n\t<tr><td>2008-10-29</td><td>Isaura    </td><td>62        </td><td>1         </td><td>15        </td><td>Online    </td><td>1         </td><td>41        </td><td>FALSE     </td><td>FALSE     </td></tr>\n\t<tr><td>2008-11-03</td><td>Marylouise</td><td>30        </td><td>6         </td><td> 9        </td><td>CableTV   </td><td>1         </td><td>42        </td><td> TRUE     </td><td>FALSE     </td></tr>\n\t<tr><td>2008-11-04</td><td>Ross      </td><td>23        </td><td>7         </td><td> 9        </td><td>Newspaper </td><td>1         </td><td>43        </td><td> TRUE     </td><td>FALSE     </td></tr>\n\t<tr><td>2008-11-04</td><td>Pat       </td><td>59        </td><td>5         </td><td>12        </td><td>Online    </td><td>1         </td><td>44        </td><td>FALSE     </td><td>FALSE     </td></tr>\n\t<tr><td>2008-11-11</td><td>Erick     </td><td>49        </td><td>1         </td><td> 8        </td><td>Newspaper </td><td>1         </td><td>45        </td><td>FALSE     </td><td>FALSE     </td></tr>\n\t<tr><td>2008-11-14</td><td>Parker    </td><td>38        </td><td>2         </td><td>12        </td><td>Newspaper </td><td>1         </td><td>46        </td><td> TRUE     </td><td>FALSE     </td></tr>\n\t<tr><td>2008-11-27</td><td>Brynn     </td><td>59        </td><td>1         </td><td>18        </td><td>Radio     </td><td>1         </td><td>47        </td><td>FALSE     </td><td>FALSE     </td></tr>\n\t<tr><td>2008-12-04</td><td>Dusti     </td><td>51        </td><td>3         </td><td>18        </td><td>Newspaper </td><td>1         </td><td>48        </td><td>FALSE     </td><td>FALSE     </td></tr>\n\t<tr><td>2008-12-23</td><td>Tiffiny   </td><td>36        </td><td>7         </td><td>16        </td><td>CableTV   </td><td>1         </td><td>49        </td><td> TRUE     </td><td>FALSE     </td></tr>\n\t<tr><td>2008-12-26</td><td>Theresa   </td><td>22        </td><td>3         </td><td>11        </td><td>Radio     </td><td>1         </td><td>50        </td><td> TRUE     </td><td>FALSE     </td></tr>\n</tbody>\n</table>\n",
      "text/latex": "\\begin{tabular}{r|llllllllll}\n SignupDate & Name & Age & Income & EduYears & PrefMedia & Added & ID & AgeLimit & DateLimit\\\\\n\\hline\n\t 2008-01-16 & Laurence   & 47         & 3          & 11         & Newspaper  & 1          &  1         & FALSE      &  TRUE     \\\\\n\t 2008-01-16 & Chong      & 68         & 1          & 13         & NetworkTV  & 1          &  2         & FALSE      &  TRUE     \\\\\n\t 2008-02-11 & Joesph     & 60         & 5          & 19         & Online     & 1          &  3         & FALSE      &  TRUE     \\\\\n\t 2008-02-12 & Ethelyn    & 59         & 7          &  7         & Radio      & 1          &  4         & FALSE      &  TRUE     \\\\\n\t 2008-02-20 & Lashanda   & 68         & 4          & 19         & CableTV    & 1          &  5         & FALSE      &  TRUE     \\\\\n\t 2008-02-21 & Mai        & 46         & 7          & 10         & CableTV    & 1          &  6         & FALSE      &  TRUE     \\\\\n\t 2008-02-22 & Corazon    & 70         & 5          & 19         & CableTV    & 1          &  7         & FALSE      &  TRUE     \\\\\n\t 2008-02-26 & Twana      & 24         & 6          & 15         & Newspaper  & 1          &  8         &  TRUE      &  TRUE     \\\\\n\t 2008-02-28 & Rufus      & 49         & 3          & 11         & Online     & 1          &  9         & FALSE      &  TRUE     \\\\\n\t 2008-03-10 & Karl       & 27         & 7          & 11         & Newspaper  & 1          & 10         &  TRUE      &  TRUE     \\\\\n\t 2008-03-18 & Vivienne   & 20         & 1          &  9         & Newspaper  & 1          & 11         &  TRUE      &  TRUE     \\\\\n\t 2008-03-26 & Lora       & 48         & 3          & 17         & Online     & 1          & 12         & FALSE      &  TRUE     \\\\\n\t 2008-03-28 & Esmeralda  & 26         & 1          & 13         & NetworkTV  & 1          & 13         &  TRUE      &  TRUE     \\\\\n\t 2008-04-16 & Earlie     & 66         & 4          & 17         & Online     & 1          & 14         & FALSE      &  TRUE     \\\\\n\t 2008-04-21 & Chang      & 72         & 4          &  7         & CableTV    & 1          & 15         & FALSE      &  TRUE     \\\\\n\t 2008-04-23 & Kaycee     & 72         & 4          &  9         & Radio      & 1          & 16         & FALSE      &  TRUE     \\\\\n\t 2008-04-25 & Ginette    & 34         & 7          & 13         & NetworkTV  & 1          & 17         &  TRUE      &  TRUE     \\\\\n\t 2008-05-09 & Del        & 69         & 5          & 12         & Online     & 1          & 18         & FALSE      & FALSE     \\\\\n\t 2008-05-12 & Gussie     & 38         & 2          & 11         & CableTV    & 1          & 19         &  TRUE      & FALSE     \\\\\n\t 2008-05-14 & Faustino   & 51         & 3          & 10         & Newspaper  & 1          & 20         & FALSE      & FALSE     \\\\\n\t 2008-05-26 & Kisha      & 61         & 1          & 18         & Online     & 1          & 21         & FALSE      & FALSE     \\\\\n\t 2008-05-30 & Shakita    & 38         & 5          &  7         & CableTV    & 1          & 22         &  TRUE      & FALSE     \\\\\n\t 2008-06-05 & Angel      & 43         & 6          &  7         & Newspaper  & 1          & 23         & FALSE      & FALSE     \\\\\n\t 2008-06-10 & Zenia      & 34         & 5          & 14         & Radio      & 1          & 24         &  TRUE      & FALSE     \\\\\n\t 2008-06-18 & Alvin      & 32         & 2          & 14         & Online     & 1          & 25         &  TRUE      & FALSE     \\\\\n\t 2008-07-02 & Zora       & 51         & 3          & 19         & Newspaper  & 1          & 26         & FALSE      & FALSE     \\\\\n\t 2008-07-03 & Wen        & 70         & 5          & 12         & Online     & 1          & 27         & FALSE      & FALSE     \\\\\n\t 2008-07-09 & Josh       & 37         & 5          &  7         & Newspaper  & 1          & 28         &  TRUE      & FALSE     \\\\\n\t 2008-07-14 & Gus        & 74         & 1          & 16         & Online     & 1          & 29         & FALSE      & FALSE     \\\\\n\t 2008-07-17 & Felton     & 49         & 3          &  8         & Radio      & 1          & 30         & FALSE      & FALSE     \\\\\n\t 2008-07-24 & Particia   & 77         & 3          &  8         & NetworkTV  & 1          & 31         & FALSE      & FALSE     \\\\\n\t 2008-07-31 & Caroline   & 69         & 3          &  7         & Radio      & 1          & 32         & FALSE      & FALSE     \\\\\n\t 2008-08-07 & Steve      & 75         & 2          &  8         & NetworkTV  & 1          & 33         & FALSE      & FALSE     \\\\\n\t 2008-08-12 & Pat        & 26         & 3          & 11         & Newspaper  & 1          & 34         &  TRUE      & FALSE     \\\\\n\t 2008-08-21 & Humberto   & 35         & 2          &  8         & Newspaper  & 1          & 35         &  TRUE      & FALSE     \\\\\n\t 2008-08-22 & Shauna     & 40         & 3          & 17         & Online     & 1          & 36         & FALSE      & FALSE     \\\\\n\t 2008-09-04 & Valentina  & 34         & 7          & 11         & CableTV    & 1          & 37         &  TRUE      & FALSE     \\\\\n\t 2008-09-24 & Genaro     & 39         & 3          & 14         & Newspaper  & 1          & 38         &  TRUE      & FALSE     \\\\\n\t 2008-09-26 & Mila       & 37         & 6          &  9         & Online     & 1          & 39         &  TRUE      & FALSE     \\\\\n\t 2008-10-22 & Annelle    & 74         & 6          &  9         & Newspaper  & 1          & 40         & FALSE      & FALSE     \\\\\n\t 2008-10-29 & Isaura     & 62         & 1          & 15         & Online     & 1          & 41         & FALSE      & FALSE     \\\\\n\t 2008-11-03 & Marylouise & 30         & 6          &  9         & CableTV    & 1          & 42         &  TRUE      & FALSE     \\\\\n\t 2008-11-04 & Ross       & 23         & 7          &  9         & Newspaper  & 1          & 43         &  TRUE      & FALSE     \\\\\n\t 2008-11-04 & Pat        & 59         & 5          & 12         & Online     & 1          & 44         & FALSE      & FALSE     \\\\\n\t 2008-11-11 & Erick      & 49         & 1          &  8         & Newspaper  & 1          & 45         & FALSE      & FALSE     \\\\\n\t 2008-11-14 & Parker     & 38         & 2          & 12         & Newspaper  & 1          & 46         &  TRUE      & FALSE     \\\\\n\t 2008-11-27 & Brynn      & 59         & 1          & 18         & Radio      & 1          & 47         & FALSE      & FALSE     \\\\\n\t 2008-12-04 & Dusti      & 51         & 3          & 18         & Newspaper  & 1          & 48         & FALSE      & FALSE     \\\\\n\t 2008-12-23 & Tiffiny    & 36         & 7          & 16         & CableTV    & 1          & 49         &  TRUE      & FALSE     \\\\\n\t 2008-12-26 & Theresa    & 22         & 3          & 11         & Radio      & 1          & 50         &  TRUE      & FALSE     \\\\\n\\end{tabular}\n",
      "text/markdown": "\nSignupDate | Name | Age | Income | EduYears | PrefMedia | Added | ID | AgeLimit | DateLimit | \n|---|---|---|---|---|---|---|---|---|---|---|---|---|---|---|---|---|---|---|---|---|---|---|---|---|---|---|---|---|---|---|---|---|---|---|---|---|---|---|---|---|---|---|---|---|---|---|---|---|---|\n| 2008-01-16 | Laurence   | 47         | 3          | 11         | Newspaper  | 1          |  1         | FALSE      |  TRUE      | \n| 2008-01-16 | Chong      | 68         | 1          | 13         | NetworkTV  | 1          |  2         | FALSE      |  TRUE      | \n| 2008-02-11 | Joesph     | 60         | 5          | 19         | Online     | 1          |  3         | FALSE      |  TRUE      | \n| 2008-02-12 | Ethelyn    | 59         | 7          |  7         | Radio      | 1          |  4         | FALSE      |  TRUE      | \n| 2008-02-20 | Lashanda   | 68         | 4          | 19         | CableTV    | 1          |  5         | FALSE      |  TRUE      | \n| 2008-02-21 | Mai        | 46         | 7          | 10         | CableTV    | 1          |  6         | FALSE      |  TRUE      | \n| 2008-02-22 | Corazon    | 70         | 5          | 19         | CableTV    | 1          |  7         | FALSE      |  TRUE      | \n| 2008-02-26 | Twana      | 24         | 6          | 15         | Newspaper  | 1          |  8         |  TRUE      |  TRUE      | \n| 2008-02-28 | Rufus      | 49         | 3          | 11         | Online     | 1          |  9         | FALSE      |  TRUE      | \n| 2008-03-10 | Karl       | 27         | 7          | 11         | Newspaper  | 1          | 10         |  TRUE      |  TRUE      | \n| 2008-03-18 | Vivienne   | 20         | 1          |  9         | Newspaper  | 1          | 11         |  TRUE      |  TRUE      | \n| 2008-03-26 | Lora       | 48         | 3          | 17         | Online     | 1          | 12         | FALSE      |  TRUE      | \n| 2008-03-28 | Esmeralda  | 26         | 1          | 13         | NetworkTV  | 1          | 13         |  TRUE      |  TRUE      | \n| 2008-04-16 | Earlie     | 66         | 4          | 17         | Online     | 1          | 14         | FALSE      |  TRUE      | \n| 2008-04-21 | Chang      | 72         | 4          |  7         | CableTV    | 1          | 15         | FALSE      |  TRUE      | \n| 2008-04-23 | Kaycee     | 72         | 4          |  9         | Radio      | 1          | 16         | FALSE      |  TRUE      | \n| 2008-04-25 | Ginette    | 34         | 7          | 13         | NetworkTV  | 1          | 17         |  TRUE      |  TRUE      | \n| 2008-05-09 | Del        | 69         | 5          | 12         | Online     | 1          | 18         | FALSE      | FALSE      | \n| 2008-05-12 | Gussie     | 38         | 2          | 11         | CableTV    | 1          | 19         |  TRUE      | FALSE      | \n| 2008-05-14 | Faustino   | 51         | 3          | 10         | Newspaper  | 1          | 20         | FALSE      | FALSE      | \n| 2008-05-26 | Kisha      | 61         | 1          | 18         | Online     | 1          | 21         | FALSE      | FALSE      | \n| 2008-05-30 | Shakita    | 38         | 5          |  7         | CableTV    | 1          | 22         |  TRUE      | FALSE      | \n| 2008-06-05 | Angel      | 43         | 6          |  7         | Newspaper  | 1          | 23         | FALSE      | FALSE      | \n| 2008-06-10 | Zenia      | 34         | 5          | 14         | Radio      | 1          | 24         |  TRUE      | FALSE      | \n| 2008-06-18 | Alvin      | 32         | 2          | 14         | Online     | 1          | 25         |  TRUE      | FALSE      | \n| 2008-07-02 | Zora       | 51         | 3          | 19         | Newspaper  | 1          | 26         | FALSE      | FALSE      | \n| 2008-07-03 | Wen        | 70         | 5          | 12         | Online     | 1          | 27         | FALSE      | FALSE      | \n| 2008-07-09 | Josh       | 37         | 5          |  7         | Newspaper  | 1          | 28         |  TRUE      | FALSE      | \n| 2008-07-14 | Gus        | 74         | 1          | 16         | Online     | 1          | 29         | FALSE      | FALSE      | \n| 2008-07-17 | Felton     | 49         | 3          |  8         | Radio      | 1          | 30         | FALSE      | FALSE      | \n| 2008-07-24 | Particia   | 77         | 3          |  8         | NetworkTV  | 1          | 31         | FALSE      | FALSE      | \n| 2008-07-31 | Caroline   | 69         | 3          |  7         | Radio      | 1          | 32         | FALSE      | FALSE      | \n| 2008-08-07 | Steve      | 75         | 2          |  8         | NetworkTV  | 1          | 33         | FALSE      | FALSE      | \n| 2008-08-12 | Pat        | 26         | 3          | 11         | Newspaper  | 1          | 34         |  TRUE      | FALSE      | \n| 2008-08-21 | Humberto   | 35         | 2          |  8         | Newspaper  | 1          | 35         |  TRUE      | FALSE      | \n| 2008-08-22 | Shauna     | 40         | 3          | 17         | Online     | 1          | 36         | FALSE      | FALSE      | \n| 2008-09-04 | Valentina  | 34         | 7          | 11         | CableTV    | 1          | 37         |  TRUE      | FALSE      | \n| 2008-09-24 | Genaro     | 39         | 3          | 14         | Newspaper  | 1          | 38         |  TRUE      | FALSE      | \n| 2008-09-26 | Mila       | 37         | 6          |  9         | Online     | 1          | 39         |  TRUE      | FALSE      | \n| 2008-10-22 | Annelle    | 74         | 6          |  9         | Newspaper  | 1          | 40         | FALSE      | FALSE      | \n| 2008-10-29 | Isaura     | 62         | 1          | 15         | Online     | 1          | 41         | FALSE      | FALSE      | \n| 2008-11-03 | Marylouise | 30         | 6          |  9         | CableTV    | 1          | 42         |  TRUE      | FALSE      | \n| 2008-11-04 | Ross       | 23         | 7          |  9         | Newspaper  | 1          | 43         |  TRUE      | FALSE      | \n| 2008-11-04 | Pat        | 59         | 5          | 12         | Online     | 1          | 44         | FALSE      | FALSE      | \n| 2008-11-11 | Erick      | 49         | 1          |  8         | Newspaper  | 1          | 45         | FALSE      | FALSE      | \n| 2008-11-14 | Parker     | 38         | 2          | 12         | Newspaper  | 1          | 46         |  TRUE      | FALSE      | \n| 2008-11-27 | Brynn      | 59         | 1          | 18         | Radio      | 1          | 47         | FALSE      | FALSE      | \n| 2008-12-04 | Dusti      | 51         | 3          | 18         | Newspaper  | 1          | 48         | FALSE      | FALSE      | \n| 2008-12-23 | Tiffiny    | 36         | 7          | 16         | CableTV    | 1          | 49         |  TRUE      | FALSE      | \n| 2008-12-26 | Theresa    | 22         | 3          | 11         | Radio      | 1          | 50         |  TRUE      | FALSE      | \n\n\n",
      "text/plain": "   SignupDate Name       Age Income EduYears PrefMedia Added ID AgeLimit\n1  2008-01-16 Laurence   47  3      11       Newspaper 1      1 FALSE   \n2  2008-01-16 Chong      68  1      13       NetworkTV 1      2 FALSE   \n3  2008-02-11 Joesph     60  5      19       Online    1      3 FALSE   \n4  2008-02-12 Ethelyn    59  7       7       Radio     1      4 FALSE   \n5  2008-02-20 Lashanda   68  4      19       CableTV   1      5 FALSE   \n6  2008-02-21 Mai        46  7      10       CableTV   1      6 FALSE   \n7  2008-02-22 Corazon    70  5      19       CableTV   1      7 FALSE   \n8  2008-02-26 Twana      24  6      15       Newspaper 1      8  TRUE   \n9  2008-02-28 Rufus      49  3      11       Online    1      9 FALSE   \n10 2008-03-10 Karl       27  7      11       Newspaper 1     10  TRUE   \n11 2008-03-18 Vivienne   20  1       9       Newspaper 1     11  TRUE   \n12 2008-03-26 Lora       48  3      17       Online    1     12 FALSE   \n13 2008-03-28 Esmeralda  26  1      13       NetworkTV 1     13  TRUE   \n14 2008-04-16 Earlie     66  4      17       Online    1     14 FALSE   \n15 2008-04-21 Chang      72  4       7       CableTV   1     15 FALSE   \n16 2008-04-23 Kaycee     72  4       9       Radio     1     16 FALSE   \n17 2008-04-25 Ginette    34  7      13       NetworkTV 1     17  TRUE   \n18 2008-05-09 Del        69  5      12       Online    1     18 FALSE   \n19 2008-05-12 Gussie     38  2      11       CableTV   1     19  TRUE   \n20 2008-05-14 Faustino   51  3      10       Newspaper 1     20 FALSE   \n21 2008-05-26 Kisha      61  1      18       Online    1     21 FALSE   \n22 2008-05-30 Shakita    38  5       7       CableTV   1     22  TRUE   \n23 2008-06-05 Angel      43  6       7       Newspaper 1     23 FALSE   \n24 2008-06-10 Zenia      34  5      14       Radio     1     24  TRUE   \n25 2008-06-18 Alvin      32  2      14       Online    1     25  TRUE   \n26 2008-07-02 Zora       51  3      19       Newspaper 1     26 FALSE   \n27 2008-07-03 Wen        70  5      12       Online    1     27 FALSE   \n28 2008-07-09 Josh       37  5       7       Newspaper 1     28  TRUE   \n29 2008-07-14 Gus        74  1      16       Online    1     29 FALSE   \n30 2008-07-17 Felton     49  3       8       Radio     1     30 FALSE   \n31 2008-07-24 Particia   77  3       8       NetworkTV 1     31 FALSE   \n32 2008-07-31 Caroline   69  3       7       Radio     1     32 FALSE   \n33 2008-08-07 Steve      75  2       8       NetworkTV 1     33 FALSE   \n34 2008-08-12 Pat        26  3      11       Newspaper 1     34  TRUE   \n35 2008-08-21 Humberto   35  2       8       Newspaper 1     35  TRUE   \n36 2008-08-22 Shauna     40  3      17       Online    1     36 FALSE   \n37 2008-09-04 Valentina  34  7      11       CableTV   1     37  TRUE   \n38 2008-09-24 Genaro     39  3      14       Newspaper 1     38  TRUE   \n39 2008-09-26 Mila       37  6       9       Online    1     39  TRUE   \n40 2008-10-22 Annelle    74  6       9       Newspaper 1     40 FALSE   \n41 2008-10-29 Isaura     62  1      15       Online    1     41 FALSE   \n42 2008-11-03 Marylouise 30  6       9       CableTV   1     42  TRUE   \n43 2008-11-04 Ross       23  7       9       Newspaper 1     43  TRUE   \n44 2008-11-04 Pat        59  5      12       Online    1     44 FALSE   \n45 2008-11-11 Erick      49  1       8       Newspaper 1     45 FALSE   \n46 2008-11-14 Parker     38  2      12       Newspaper 1     46  TRUE   \n47 2008-11-27 Brynn      59  1      18       Radio     1     47 FALSE   \n48 2008-12-04 Dusti      51  3      18       Newspaper 1     48 FALSE   \n49 2008-12-23 Tiffiny    36  7      16       CableTV   1     49  TRUE   \n50 2008-12-26 Theresa    22  3      11       Radio     1     50  TRUE   \n   DateLimit\n1   TRUE    \n2   TRUE    \n3   TRUE    \n4   TRUE    \n5   TRUE    \n6   TRUE    \n7   TRUE    \n8   TRUE    \n9   TRUE    \n10  TRUE    \n11  TRUE    \n12  TRUE    \n13  TRUE    \n14  TRUE    \n15  TRUE    \n16  TRUE    \n17  TRUE    \n18 FALSE    \n19 FALSE    \n20 FALSE    \n21 FALSE    \n22 FALSE    \n23 FALSE    \n24 FALSE    \n25 FALSE    \n26 FALSE    \n27 FALSE    \n28 FALSE    \n29 FALSE    \n30 FALSE    \n31 FALSE    \n32 FALSE    \n33 FALSE    \n34 FALSE    \n35 FALSE    \n36 FALSE    \n37 FALSE    \n38 FALSE    \n39 FALSE    \n40 FALSE    \n41 FALSE    \n42 FALSE    \n43 FALSE    \n44 FALSE    \n45 FALSE    \n46 FALSE    \n47 FALSE    \n48 FALSE    \n49 FALSE    \n50 FALSE    "
     },
     "metadata": {},
     "output_type": "display_data"
    }
   ],
   "source": "# display the complete data\nroster"
  },
  {
   "cell_type": "markdown",
   "metadata": {},
   "source": "### 9. Create new data frame only with the `Name` and `Income` columns"
  },
  {
   "cell_type": "code",
   "execution_count": 16,
   "metadata": {},
   "outputs": [
    {
     "data": {
      "text/html": "<table>\n<thead><tr><th scope=col>Name</th><th scope=col>Income</th></tr></thead>\n<tbody>\n\t<tr><td>Laurence</td><td>3       </td></tr>\n\t<tr><td>Chong   </td><td>1       </td></tr>\n\t<tr><td>Joesph  </td><td>5       </td></tr>\n\t<tr><td>Ethelyn </td><td>7       </td></tr>\n\t<tr><td>Lashanda</td><td>4       </td></tr>\n\t<tr><td>Mai     </td><td>7       </td></tr>\n</tbody>\n</table>\n",
      "text/latex": "\\begin{tabular}{r|ll}\n Name & Income\\\\\n\\hline\n\t Laurence & 3       \\\\\n\t Chong    & 1       \\\\\n\t Joesph   & 5       \\\\\n\t Ethelyn  & 7       \\\\\n\t Lashanda & 4       \\\\\n\t Mai      & 7       \\\\\n\\end{tabular}\n",
      "text/markdown": "\nName | Income | \n|---|---|---|---|---|---|\n| Laurence | 3        | \n| Chong    | 1        | \n| Joesph   | 5        | \n| Ethelyn  | 7        | \n| Lashanda | 4        | \n| Mai      | 7        | \n\n\n",
      "text/plain": "  Name     Income\n1 Laurence 3     \n2 Chong    1     \n3 Joesph   5     \n4 Ethelyn  7     \n5 Lashanda 4     \n6 Mai      7     "
     },
     "metadata": {},
     "output_type": "display_data"
    }
   ],
   "source": "# the new data frame is named \"rosterSubset\"\n# Name column is the second column, Income is the fourth\nrosterSubset <- roster[, c(2, 4)]\n# take a peek\nhead(rosterSubset)"
  },
  {
   "cell_type": "code",
   "execution_count": 17,
   "metadata": {},
   "outputs": [
    {
     "data": {
      "text/html": "<ol class=list-inline>\n\t<li>50</li>\n\t<li>2</li>\n</ol>\n",
      "text/latex": "\\begin{enumerate*}\n\\item 50\n\\item 2\n\\end{enumerate*}\n",
      "text/markdown": "1. 50\n2. 2\n\n\n",
      "text/plain": "[1] 50  2"
     },
     "metadata": {},
     "output_type": "display_data"
    }
   ],
   "source": "# check the dimensions\ndim(rosterSubset)"
  },
  {
   "cell_type": "markdown",
   "metadata": {},
   "source": "### 10. Save the new generated data frame"
  },
  {
   "cell_type": "code",
   "execution_count": 18,
   "metadata": {},
   "outputs": [],
   "source": "# the new data file is named \"Lab2data_subset.csv\"\nwrite.csv(rosterSubset, \n          file=\"./Lab2data_subset.csv\", \n          quote=FALSE, \n          row.names=FALSE)"
  }
 ],
 "metadata": {
  "kernelspec": {
   "display_name": "R",
   "language": "R",
   "name": "ir"
  },
  "language_info": {
   "codemirror_mode": "r",
   "file_extension": ".r",
   "mimetype": "text/x-r-source",
   "name": "R",
   "pygments_lexer": "r",
   "version": "3.5.1"
  },
  "toc": {
   "base_numbering": 1,
   "nav_menu": {},
   "number_sections": false,
   "sideBar": true,
   "skip_h1_title": false,
   "title_cell": "Table of Contents",
   "title_sidebar": "Contents",
   "toc_cell": false,
   "toc_position": {},
   "toc_section_display": true,
   "toc_window_display": false
  },
  "varInspector": {
   "cols": {
    "lenName": 16,
    "lenType": 16,
    "lenVar": 40
   },
   "kernels_config": {
    "python": {
     "delete_cmd_postfix": "",
     "delete_cmd_prefix": "del ",
     "library": "var_list.py",
     "varRefreshCmd": "print(var_dic_list())"
    },
    "r": {
     "delete_cmd_postfix": ") ",
     "delete_cmd_prefix": "rm(",
     "library": "var_list.r",
     "varRefreshCmd": "cat(var_dic_list()) "
    }
   },
   "types_to_exclude": [
    "module",
    "function",
    "builtin_function_or_method",
    "instance",
    "_Feature"
   ],
   "window_display": false
  }
 },
 "nbformat": 4,
 "nbformat_minor": 4
}
