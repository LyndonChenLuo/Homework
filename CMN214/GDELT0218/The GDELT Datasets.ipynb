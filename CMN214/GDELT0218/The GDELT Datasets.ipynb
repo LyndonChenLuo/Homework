{
 "cells": [
  {
   "cell_type": "markdown",
   "metadata": {},
   "source": [
    "- [The GDELT Project](https://www.gdeltproject.org/)\n",
    "\n",
    "\n",
    "- Chen Luo, Feb 18, 2020"
   ]
  },
  {
   "cell_type": "markdown",
   "metadata": {},
   "source": [
    "## 1. What is GDELT?\n",
    "\n",
    "- A project supported by Google, monitors the world's broadcast, print, and web news\n",
    "\n",
    "---\n",
    "\n",
    "## 2. What makes it special?\n",
    "\n",
    "- Multilanguage (Over 100)\n",
    "\n",
    "- A detailed coding system, including people, locations, organizations, themes, emotions\n",
    "\n",
    "- Open access\n",
    "\n",
    "- High update frequency (Every 15 mins)\n",
    "\n",
    "- Historical breadth (some datasets date back to the 19th century)\n",
    "\n",
    "- [Friendly documents](https://www.gdeltproject.org/data.html#documentation)\n",
    "\n",
    "---\n",
    "\n",
    "## 3. Two major datasets\n",
    "\n",
    "- GDELT Event Database\n",
    "    - Contains over 300 categories of physical activities over the world\n",
    "    \n",
    "    - Nearly 60 attributes are coded for each event\n",
    "\n",
    "- GDELT Global Knowledge Graph (April 1, 2013 ~ now)\n",
    "    - Based on each news report, using NER and geocoding algorithms to perform the coding\n",
    "\n",
    "---"
   ]
  },
  {
   "cell_type": "markdown",
   "metadata": {},
   "source": [
    "## 4. How to apply GDELT datasets to your network analysis?\n",
    "- Option 1: GDELT + Gephi\n",
    "    - [GKG Network Visualizer](http://analysis.gdeltproject.org/module-gkg-network.html)\n",
    "    \n",
    "    - Two steps: Enter your keywords, then open your mailbox\n",
    "    \n",
    "    - This function is not available now but will come into effect in the next few weeks.\n",
    "    \n",
    "    - There are other easy to use [analysis services](http://analysis.gdeltproject.org/)\n",
    "    \n",
    "    \n",
    "- Option 2: Customized data\n",
    "     - Google BigQuery / Raw data file (`csv` & `tsv`)\n",
    "     \n",
    "     - This following demo (very preliminary) creates a countries' co-occurrence (top 1K) network of `global pandemic` (a given theme in GDELT project) through news coverage in the recent week\n",
    "         - The toolkit includes Google BigQuery ([preview](https://bigquery.cloud.google.com/table/gdelt-bq), but please pay attention to the [quota](https://cloud.google.com/dialogflow/quotas)), Google Cloud Platform, Gephi (geolayout plug-in)"
   ]
  },
  {
   "cell_type": "code",
   "execution_count": 1,
   "metadata": {},
   "outputs": [],
   "source": [
    "import os\n",
    "from google.cloud import bigquery\n",
    "from google.cloud.bigquery.job import QueryJobConfig\n",
    "\n",
    "# initialize\n",
    "QueryJobConfig(useLegacySql=False)\n",
    "# provide the private key of Google Cloud Platform\n",
    "os.environ['GOOGLE_APPLICATION_CREDENTIALS'] = './gdelt-a776108ed74c.json'"
   ]
  },
  {
   "cell_type": "markdown",
   "metadata": {},
   "source": [
    "### 4.1 query for the `edges.csv`"
   ]
  },
  {
   "cell_type": "code",
   "execution_count": 3,
   "metadata": {},
   "outputs": [],
   "source": [
    "# `gdeltv2.gkg_partitioned` table stores the GKG V2 data (About 11 TB)\n",
    "# `extra.countrygeolookup` table contains countryname (str), lat (str), long (str), fips (str)\n",
    "# query_1 is for building the edges table (including source, target, type, weight)\n",
    "# 'OS' means oceans\n",
    "\n",
    "query_1 = '''\n",
    "SELECT\n",
    "  d.countryname Source, e.countryname Target, \"Undirected\" Type, ROUND(c.Count/SUM(c.Count) OVER (), 6) Weight\n",
    "FROM (\n",
    "  SELECT\n",
    "    a.countrycode Source, b.countrycode Target, COUNT(*) AS Count\n",
    "  FROM ( (\n",
    "      SELECT\n",
    "        DocumentIdentifier url, REGEXP_EXTRACT(location, r'^.*?#.*?#(.*?)#') countrycode\n",
    "      FROM\n",
    "        `gdelt-bq.gdeltv2.gkg_partitioned`, UNNEST(SPLIT(V2Locations, ';')) AS location\n",
    "      WHERE\n",
    "        LENGTH(V2Locations) > 3 AND V2Themes LIKE '%HEALTH_PANDEMIC%HEALTH_PANDEMIC%' AND DATE(_PARTITIONTIME) BETWEEN DATE_SUB(CURRENT_DATE(), INTERVAL 7 DAY) AND CURRENT_DATE())) a\n",
    "  JOIN ( (\n",
    "      SELECT\n",
    "        DocumentIdentifier url, REGEXP_EXTRACT(location, r'^.*?#.*?#(.*?)#') countrycode\n",
    "      FROM\n",
    "        `gdelt-bq.gdeltv2.gkg_partitioned`, UNNEST(SPLIT(V2Locations, ';')) AS location\n",
    "      WHERE\n",
    "        LENGTH(V2Locations) > 3 AND V2Themes LIKE '%HEALTH_PANDEMIC%HEALTH_PANDEMIC%' AND DATE(_PARTITIONTIME) BETWEEN DATE_SUB(CURRENT_DATE(), INTERVAL 7 DAY) AND CURRENT_DATE())) b\n",
    "  ON\n",
    "    a.url=b.url\n",
    "  WHERE\n",
    "    a.countrycode < b.countrycode AND a.countrycode != 'OS' AND b.countrycode != 'OS'\n",
    "  GROUP BY\n",
    "    1, 2\n",
    "  ORDER BY\n",
    "    3 DESC\n",
    "  LIMIT\n",
    "    1000) c\n",
    "JOIN (\n",
    "  SELECT\n",
    "    fips, countryname\n",
    "  FROM\n",
    "    `gdelt-bq.extra.countrygeolookup`) d\n",
    "ON\n",
    "  c.Source = d.fips\n",
    "JOIN (\n",
    "  SELECT\n",
    "    fips, countryname\n",
    "  FROM\n",
    "    `gdelt-bq.extra.countrygeolookup`) e\n",
    "ON\n",
    "  c.Target = e.fips\n",
    "ORDER BY\n",
    "  Count DESC\n",
    "'''"
   ]
  },
  {
   "cell_type": "markdown",
   "metadata": {},
   "source": [
    "### 4.2 generate the `nodes.csv`"
   ]
  },
  {
   "cell_type": "code",
   "execution_count": 4,
   "metadata": {},
   "outputs": [],
   "source": [
    "# query_2 is for building the nodes table (including ID, Label, Lat, Long)\n",
    "# Lat & Long fields are prepared for the geo-layout\n",
    "query_2 = '''\n",
    "SELECT\n",
    "  Country Id, Country Label, Latitude, Longitude\n",
    "FROM (\n",
    "  WITH\n",
    "    network AS(\n",
    "    SELECT\n",
    "      d.countryname Source, d.latitude SourceLatitude, d.longitude SourceLongitude, \n",
    "      e.countryname Target, e.latitude TargetLatitude, e.longitude TargetLongitude\n",
    "    FROM (\n",
    "      SELECT\n",
    "        a.countrycode Source, b.countrycode Target, COUNT(*) AS Count\n",
    "      FROM ( (\n",
    "          SELECT\n",
    "            DocumentIdentifier url, REGEXP_EXTRACT(location,r'^.*?#.*?#(.*?)#') countrycode\n",
    "          FROM\n",
    "            `gdelt-bq.gdeltv2.gkg_partitioned`, UNNEST(SPLIT(V2Locations, ';')) AS location\n",
    "          WHERE\n",
    "            LENGTH(V2Locations) > 3 AND V2Themes LIKE '%HEALTH_PANDEMIC%HEALTH_PANDEMIC%' AND DATE(_PARTITIONTIME) BETWEEN DATE_SUB(CURRENT_DATE(), INTERVAL 7 DAY) AND CURRENT_DATE())) a\n",
    "      JOIN ( (\n",
    "          SELECT\n",
    "            DocumentIdentifier url, REGEXP_EXTRACT(location,r'^.*?#.*?#(.*?)#') countrycode\n",
    "          FROM\n",
    "            `gdelt-bq.gdeltv2.gkg_partitioned`, UNNEST(SPLIT(V2Locations, ';')) AS location\n",
    "          WHERE\n",
    "            LENGTH(V2Locations) > 3 AND V2Themes LIKE '%HEALTH_PANDEMIC%HEALTH_PANDEMIC%' AND DATE(_PARTITIONTIME) BETWEEN DATE_SUB(CURRENT_DATE(), INTERVAL 7 DAY) AND CURRENT_DATE())) b\n",
    "      ON\n",
    "        a.url=b.url\n",
    "      WHERE\n",
    "        a.countrycode < b.countrycode AND a.countrycode != 'OS' AND b.countrycode != 'OS'\n",
    "      GROUP BY\n",
    "        1, 2\n",
    "      ORDER BY\n",
    "        3 DESC\n",
    "      LIMIT\n",
    "        1000) c\n",
    "    JOIN (\n",
    "      SELECT\n",
    "        fips, countryname, latitude, longitude\n",
    "      FROM\n",
    "        `gdelt-bq.extra.countrygeolookup`) d\n",
    "    ON\n",
    "      c.Source = d.fips\n",
    "    JOIN (\n",
    "      SELECT\n",
    "        fips, countryname, latitude, longitude\n",
    "      FROM\n",
    "        `gdelt-bq.extra.countrygeolookup`) e\n",
    "    ON\n",
    "      c.Target = e.fips\n",
    "    ORDER BY\n",
    "      Count DESC) (\n",
    "    SELECT\n",
    "      Source Country, SourceLatitude Latitude, SourceLongitude Longitude\n",
    "    FROM\n",
    "      network)\n",
    "  UNION DISTINCT (\n",
    "    SELECT\n",
    "      Target Country, TargetLatitude Latitude, TargetLongitude Longitude\n",
    "    FROM\n",
    "      network) )\n",
    "ORDER BY\n",
    "  Country\n",
    "'''"
   ]
  },
  {
   "cell_type": "markdown",
   "metadata": {},
   "source": [
    "### 4.3 build the query module"
   ]
  },
  {
   "cell_type": "code",
   "execution_count": 7,
   "metadata": {},
   "outputs": [],
   "source": [
    "class buildNetwork:\n",
    "    def __init__(self, query, filepath):\n",
    "        self.client = bigquery.Client()\n",
    "        self.query = query\n",
    "        self.filepath = filepath\n",
    "        self.idx = 0\n",
    "        \n",
    "    def query_process(self):\n",
    "        rows = self.client.query(self.query).result()\n",
    "        return rows\n",
    "    \n",
    "    def save_edges_results(self):\n",
    "        with open(self.filepath, 'w', encoding='utf-8') as edges:\n",
    "            edges.write('Source' + ',' + 'Target' + ',' + 'Type' + ',' + 'Weight' + '\\n')\n",
    "            for row in self.query_process():\n",
    "                self.idx += 1\n",
    "                edges.write(row['Source'] + ',' + row['Target'] + ',' + row['Type'] + ',' + str(row['Weight']) + '\\n')\n",
    "        return self.idx\n",
    "    \n",
    "    def save_nodes_results(self):\n",
    "        with open(self.filepath, 'w', encoding='utf-8') as nodes:\n",
    "            nodes.write('ID' + ',' + 'Label' + ',' + 'Latitude' + ',' + 'Longitude' + '\\n')\n",
    "            for row in self.query_process():\n",
    "                self.idx += 1\n",
    "                nodes.write(row['Id'] + ',' + row['Label'] + ',' + row['Latitude'] + ',' + str(row['Longitude']) + '\\n')\n",
    "        return self.idx"
   ]
  },
  {
   "cell_type": "markdown",
   "metadata": {},
   "source": [
    "### 4.4 run the query"
   ]
  },
  {
   "cell_type": "code",
   "execution_count": 8,
   "metadata": {},
   "outputs": [
    {
     "name": "stdout",
     "output_type": "stream",
     "text": [
      "This query generates 1001 edges\n",
      "CPU times: user 72.2 ms, sys: 10.5 ms, total: 82.8 ms\n",
      "Wall time: 7.11 s\n"
     ]
    }
   ],
   "source": [
    "%%time\n",
    "# for the edges\n",
    "newBuildNetwork = buildNetwork(query_1, './edges_pandemic.csv')\n",
    "newBuildNetwork.save_edges_results()\n",
    "print('This query generates %s edges'%(newBuildNetwork.idx))"
   ]
  },
  {
   "cell_type": "code",
   "execution_count": 9,
   "metadata": {},
   "outputs": [
    {
     "name": "stdout",
     "output_type": "stream",
     "text": [
      "This query generates 120 nodes\n",
      "CPU times: user 52.5 ms, sys: 7.23 ms, total: 59.7 ms\n",
      "Wall time: 7.96 s\n"
     ]
    }
   ],
   "source": [
    "%%time\n",
    "# for the nodes\n",
    "newBuildNetwork = buildNetwork(query_2, './nodes_pandemic.csv')\n",
    "newBuildNetwork.save_nodes_results()\n",
    "print('This query generates %s nodes'%(newBuildNetwork.idx))"
   ]
  },
  {
   "cell_type": "markdown",
   "metadata": {},
   "source": [
    "### 4.5 move to Gephi\n",
    "\n",
    "- The final network"
   ]
  },
  {
   "cell_type": "code",
   "execution_count": 13,
   "metadata": {},
   "outputs": [
    {
     "data": {
      "text/html": [
       "<img src='./final_network.png' width=1000 height=600>\n"
      ],
      "text/plain": [
       "<IPython.core.display.HTML object>"
      ]
     },
     "metadata": {},
     "output_type": "display_data"
    }
   ],
   "source": [
    "%%html\n",
    "<img src='./final_network.png' width=1000 height=600>"
   ]
  },
  {
   "cell_type": "code",
   "execution_count": null,
   "metadata": {},
   "outputs": [],
   "source": []
  }
 ],
 "metadata": {
  "kernelspec": {
   "display_name": "Python 3",
   "language": "python",
   "name": "python3"
  },
  "language_info": {
   "codemirror_mode": {
    "name": "ipython",
    "version": 3
   },
   "file_extension": ".py",
   "mimetype": "text/x-python",
   "name": "python",
   "nbconvert_exporter": "python",
   "pygments_lexer": "ipython3",
   "version": "3.7.4"
  },
  "toc": {
   "base_numbering": 1,
   "nav_menu": {},
   "number_sections": false,
   "sideBar": true,
   "skip_h1_title": false,
   "title_cell": "Table of Contents",
   "title_sidebar": "Contents",
   "toc_cell": false,
   "toc_position": {},
   "toc_section_display": true,
   "toc_window_display": true
  },
  "varInspector": {
   "cols": {
    "lenName": 16,
    "lenType": 16,
    "lenVar": 40
   },
   "kernels_config": {
    "python": {
     "delete_cmd_postfix": "",
     "delete_cmd_prefix": "del ",
     "library": "var_list.py",
     "varRefreshCmd": "print(var_dic_list())"
    },
    "r": {
     "delete_cmd_postfix": ") ",
     "delete_cmd_prefix": "rm(",
     "library": "var_list.r",
     "varRefreshCmd": "cat(var_dic_list()) "
    }
   },
   "types_to_exclude": [
    "module",
    "function",
    "builtin_function_or_method",
    "instance",
    "_Feature"
   ],
   "window_display": false
  }
 },
 "nbformat": 4,
 "nbformat_minor": 2
}
